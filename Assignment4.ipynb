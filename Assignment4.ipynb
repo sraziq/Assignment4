{
 "cells": [
  {
   "cell_type": "markdown",
   "metadata": {},
   "source": [
    "## Assignment 4\n",
    "## Author : Raziq Ahmad Saudagar\n",
    "## Task1"
   ]
  },
  {
   "cell_type": "markdown",
   "metadata": {},
   "source": [
    "Given a sequence of n values x1, x2, ..., xn and a window size k>0, the k-th moving average of                    the given sequence is defined as follows:  \n",
    "The moving average sequence has n-k+1 elements as shown below.  \n",
    "The moving averages with k=4 of a ten-value sequence (n=10) is shown below  \n",
    "   i     1   2   3   4   5   6   7   8   9 10  \n",
    " =====  ==  ==  ==  ==  ==  ==  ==  ==  ==  ==   \n",
    "Input  10  20  30  40  50  60  70  80  90 100  \n",
    " y1     25 = (10+20+30+40)/4  \n",
    " y2         35 = (20+30+40+50)/4  \n",
    " y3             45 = (30+40+50+60)/4  \n",
    " y4                 55 = (40+50+60+70)/4  \n",
    " y5                     65 = (50+60+70+80)/4  \n",
    " y6                         75 = (60+70+80+90)/4  \n",
    " y7                             85 = (70+80+90+100)/4  \n",
    "Thus, the moving average sequence has n-k+1=10-4+1=7 values"
   ]
  },
  {
   "cell_type": "code",
   "execution_count": 1,
   "metadata": {},
   "outputs": [],
   "source": [
    "import numpy as np"
   ]
  },
  {
   "cell_type": "code",
   "execution_count": 33,
   "metadata": {},
   "outputs": [],
   "source": [
    "import numpy as np\n",
    "def movAvg(X,K):\n",
    "    for i in range(len(X)-K+1):\n",
    "        Y=np.sum(X[i:i+K])\n",
    "        print(Y/K)"
   ]
  },
  {
   "cell_type": "code",
   "execution_count": 34,
   "metadata": {},
   "outputs": [
    {
     "name": "stdout",
     "output_type": "stream",
     "text": [
      "5.0\n",
      "4.666666666666667\n",
      "5.666666666666667\n",
      "6.666666666666667\n",
      "9.666666666666666\n",
      "28.666666666666668\n",
      "49.333333333333336\n",
      "72.66666666666667\n",
      "84.0\n",
      "93.33333333333333\n",
      "116.33333333333333\n"
     ]
    }
   ],
   "source": [
    "lst = [3, 5, 7, 2, 8, 10, 11, 65, 72, 81, 99, 100, 150]\n",
    "movAvg(lst,3)"
   ]
  },
  {
   "cell_type": "markdown",
   "metadata": {},
   "source": [
    "## Task 2: "
   ]
  },
  {
   "cell_type": "markdown",
   "metadata": {},
   "source": [
    "1) How-to-count-distance-to-the-previous-zero \n",
    "For each value, count the difference back to the previous zero (or the start of the Series,                 whichever is closer)  \n",
    "create a new column 'Y' \n",
    "Consider a DataFrame df where there is an integer column 'X' \n",
    "import pandas as pd \n",
    "df = pd.DataFrame({'X': [7, 2, 0, 3, 4, 2, 5, 0, 3, 4]}) "
   ]
  },
  {
   "cell_type": "code",
   "execution_count": 35,
   "metadata": {},
   "outputs": [],
   "source": [
    "import pandas as pd "
   ]
  },
  {
   "cell_type": "code",
   "execution_count": 107,
   "metadata": {},
   "outputs": [],
   "source": [
    "df = pd.DataFrame({'X': [7, 2, 0, 3, 4, 2, 5, 0, 3, 4]})"
   ]
  },
  {
   "cell_type": "code",
   "execution_count": 109,
   "metadata": {},
   "outputs": [
    {
     "name": "stdout",
     "output_type": "stream",
     "text": [
      "   X  Y\n",
      "0  7  1\n",
      "1  2  2\n",
      "2  0  0\n",
      "3  3  1\n",
      "4  4  2\n",
      "5  2  3\n",
      "6  5  4\n",
      "7  0  0\n",
      "8  3  1\n",
      "9  4  2\n"
     ]
    }
   ],
   "source": [
    "LST = df[0:]\n",
    "xVal = LST.values\n",
    "yVal=[]\n",
    "counter=0\n",
    "for i in range(xVal.size):\n",
    "    if(xVal[i]==0):\n",
    "        yVal.append(0)\n",
    "        counter =0;\n",
    "        continue\n",
    "    else:\n",
    "        yVal.append(counter+1)\n",
    "    counter +=1\n",
    "df['Y']=yVal\n",
    "print(df)"
   ]
  },
  {
   "cell_type": "markdown",
   "metadata": {},
   "source": [
    "2) Create a DatetimeIndex that contains each business day of 2015 and use it to index a Series of                  random numbers. "
   ]
  },
  {
   "cell_type": "code",
   "execution_count": 110,
   "metadata": {},
   "outputs": [
    {
     "name": "stdout",
     "output_type": "stream",
     "text": [
      "Help on function bdate_range in module pandas.core.indexes.datetimes:\n",
      "\n",
      "bdate_range(start=None, end=None, periods=None, freq='B', tz=None, normalize=True, name=None, weekmask=None, holidays=None, closed=None, **kwargs)\n",
      "    Return a fixed frequency DatetimeIndex, with business day as the default\n",
      "    frequency\n",
      "    \n",
      "    Parameters\n",
      "    ----------\n",
      "    start : string or datetime-like, default None\n",
      "        Left bound for generating dates.\n",
      "    end : string or datetime-like, default None\n",
      "        Right bound for generating dates.\n",
      "    periods : integer, default None\n",
      "        Number of periods to generate.\n",
      "    freq : string or DateOffset, default 'B' (business daily)\n",
      "        Frequency strings can have multiples, e.g. '5H'.\n",
      "    tz : string or None\n",
      "        Time zone name for returning localized DatetimeIndex, for example\n",
      "        Asia/Beijing.\n",
      "    normalize : bool, default False\n",
      "        Normalize start/end dates to midnight before generating date range.\n",
      "    name : string, default None\n",
      "        Name of the resulting DatetimeIndex.\n",
      "    weekmask : string or None, default None\n",
      "        Weekmask of valid business days, passed to ``numpy.busdaycalendar``,\n",
      "        only used when custom frequency strings are passed.  The default\n",
      "        value None is equivalent to 'Mon Tue Wed Thu Fri'.\n",
      "    \n",
      "        .. versionadded:: 0.21.0\n",
      "    \n",
      "    holidays : list-like or None, default None\n",
      "        Dates to exclude from the set of valid business days, passed to\n",
      "        ``numpy.busdaycalendar``, only used when custom frequency strings\n",
      "        are passed.\n",
      "    \n",
      "        .. versionadded:: 0.21.0\n",
      "    \n",
      "    closed : string, default None\n",
      "        Make the interval closed with respect to the given frequency to\n",
      "        the 'left', 'right', or both sides (None).\n",
      "    **kwargs\n",
      "        For compatibility. Has no effect on the result.\n",
      "    \n",
      "    Returns\n",
      "    -------\n",
      "    DatetimeIndex\n",
      "    \n",
      "    Notes\n",
      "    -----\n",
      "    Of the four parameters: ``start``, ``end``, ``periods``, and ``freq``,\n",
      "    exactly three must be specified.  Specifying ``freq`` is a requirement\n",
      "    for ``bdate_range``.  Use ``date_range`` if specifying ``freq`` is not\n",
      "    desired.\n",
      "    \n",
      "    To learn more about the frequency strings, please see `this link\n",
      "    <http://pandas.pydata.org/pandas-docs/stable/timeseries.html#offset-aliases>`__.\n",
      "    \n",
      "    Examples\n",
      "    --------\n",
      "    Note how the two weekend days are skipped in the result.\n",
      "    \n",
      "    >>> pd.bdate_range(start='1/1/2018', end='1/08/2018')\n",
      "    DatetimeIndex(['2018-01-01', '2018-01-02', '2018-01-03', '2018-01-04',\n",
      "               '2018-01-05', '2018-01-08'],\n",
      "              dtype='datetime64[ns]', freq='B')\n",
      "\n"
     ]
    }
   ],
   "source": [
    "#DtTmIndx = pd.bdate_range\n",
    "help(pd.bdate_range)"
   ]
  },
  {
   "cell_type": "code",
   "execution_count": 135,
   "metadata": {},
   "outputs": [
    {
     "name": "stdout",
     "output_type": "stream",
     "text": [
      "2015-01-01    0.575033\n",
      "2015-01-02    0.672094\n",
      "2015-01-05    0.515403\n",
      "2015-01-06    0.775930\n",
      "2015-01-07    0.136820\n",
      "2015-01-08    0.744262\n",
      "2015-01-09    0.919072\n",
      "2015-01-12    0.788796\n",
      "2015-01-13    0.903955\n",
      "2015-01-14    0.295761\n",
      "2015-01-15    0.226105\n",
      "2015-01-16    0.359774\n",
      "2015-01-19    0.951730\n",
      "2015-01-20    0.654310\n",
      "2015-01-21    0.340268\n",
      "2015-01-22    0.714138\n",
      "2015-01-23    0.036937\n",
      "2015-01-26    0.154046\n",
      "2015-01-27    0.328966\n",
      "2015-01-28    0.642996\n",
      "2015-01-29    0.246783\n",
      "2015-01-30    0.828746\n",
      "2015-02-02    0.716659\n",
      "2015-02-03    0.092975\n",
      "2015-02-04    0.642733\n",
      "2015-02-05    0.250556\n",
      "2015-02-06    0.680625\n",
      "2015-02-09    0.884605\n",
      "2015-02-10    0.540182\n",
      "2015-02-11    0.699915\n",
      "                ...   \n",
      "2015-11-20    0.157436\n",
      "2015-11-23    0.779821\n",
      "2015-11-24    0.878107\n",
      "2015-11-25    0.642754\n",
      "2015-11-26    0.086735\n",
      "2015-11-27    0.472172\n",
      "2015-11-30    0.529705\n",
      "2015-12-01    0.995167\n",
      "2015-12-02    0.765241\n",
      "2015-12-03    0.214762\n",
      "2015-12-04    0.597520\n",
      "2015-12-07    0.048757\n",
      "2015-12-08    0.882902\n",
      "2015-12-09    0.357013\n",
      "2015-12-10    0.282957\n",
      "2015-12-11    0.262516\n",
      "2015-12-14    0.622510\n",
      "2015-12-15    0.016505\n",
      "2015-12-16    0.278370\n",
      "2015-12-17    0.252806\n",
      "2015-12-18    0.809016\n",
      "2015-12-21    0.956729\n",
      "2015-12-22    0.255255\n",
      "2015-12-23    0.615264\n",
      "2015-12-24    0.189072\n",
      "2015-12-25    0.100529\n",
      "2015-12-28    0.854109\n",
      "2015-12-29    0.997686\n",
      "2015-12-30    0.907605\n",
      "2015-12-31    0.925368\n",
      "Freq: B, Length: 261, dtype: float64\n"
     ]
    }
   ],
   "source": [
    "import numpy as np\n",
    "df = pd.bdate_range(start='1/1/2015', end='12/31/2015')\n",
    "#print(df)\n",
    "df.size\n",
    "len(df)\n",
    "s = pd.Series(np.random.rand(df.size),index= df)\n",
    "print(s)"
   ]
  },
  {
   "cell_type": "markdown",
   "metadata": {},
   "source": [
    "## "
   ]
  },
  {
   "cell_type": "markdown",
   "metadata": {},
   "source": [
    "3) Find the sum of the values in s for every Wednesday"
   ]
  },
  {
   "cell_type": "code",
   "execution_count": 146,
   "metadata": {},
   "outputs": [
    {
     "data": {
      "text/plain": [
       "27.462997002920304"
      ]
     },
     "execution_count": 146,
     "metadata": {},
     "output_type": "execute_result"
    }
   ],
   "source": [
    "s[df.weekday_name==\"Wednesday\"].sum()\n"
   ]
  },
  {
   "cell_type": "markdown",
   "metadata": {},
   "source": [
    "4) Average For each calendar month "
   ]
  },
  {
   "cell_type": "code",
   "execution_count": 156,
   "metadata": {},
   "outputs": [
    {
     "data": {
      "text/plain": [
       "2015-01-31    0.536906\n",
       "2015-02-28    0.559548\n",
       "2015-03-31    0.629024\n",
       "2015-04-30    0.525149\n",
       "2015-05-31    0.533401\n",
       "2015-06-30    0.514498\n",
       "2015-07-31    0.513083\n",
       "2015-08-31    0.437123\n",
       "2015-09-30    0.471395\n",
       "2015-10-31    0.557311\n",
       "2015-11-30    0.491227\n",
       "2015-12-31    0.529898\n",
       "Freq: M, dtype: float64"
      ]
     },
     "execution_count": 156,
     "metadata": {},
     "output_type": "execute_result"
    }
   ],
   "source": [
    "x = s.resample(\"M\")\n",
    "x.mean()"
   ]
  },
  {
   "cell_type": "code",
   "execution_count": null,
   "metadata": {},
   "outputs": [],
   "source": []
  },
  {
   "cell_type": "markdown",
   "metadata": {},
   "source": [
    "4) For each group of four consecutive calendar months in s, find the date on which the highest                 value occurred. "
   ]
  },
  {
   "cell_type": "code",
   "execution_count": 169,
   "metadata": {},
   "outputs": [
    {
     "name": "stderr",
     "output_type": "stream",
     "text": [
      "C:\\ProgramData\\Anaconda3\\lib\\site-packages\\ipykernel_launcher.py:2: FutureWarning: pd.TimeGrouper is deprecated and will be removed; Please use pd.Grouper(freq=...)\n",
      "  \n"
     ]
    },
    {
     "data": {
      "text/plain": [
       "2015-01-31   2015-01-19\n",
       "2015-05-31   2015-02-16\n",
       "2015-09-30   2015-09-03\n",
       "2016-01-31   2015-12-29\n",
       "Freq: 4M, dtype: datetime64[ns]"
      ]
     },
     "execution_count": 169,
     "metadata": {},
     "output_type": "execute_result"
    }
   ],
   "source": [
    "s.resample('M').max()\n",
    "s.groupby(pd.TimeGrouper('4M')).idxmax()"
   ]
  }
 ],
 "metadata": {
  "kernelspec": {
   "display_name": "Python 3",
   "language": "python",
   "name": "python3"
  },
  "language_info": {
   "codemirror_mode": {
    "name": "ipython",
    "version": 3
   },
   "file_extension": ".py",
   "mimetype": "text/x-python",
   "name": "python",
   "nbconvert_exporter": "python",
   "pygments_lexer": "ipython3",
   "version": "3.7.0"
  }
 },
 "nbformat": 4,
 "nbformat_minor": 2
}
